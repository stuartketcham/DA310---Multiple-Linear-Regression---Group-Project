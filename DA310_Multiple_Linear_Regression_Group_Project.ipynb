{
  "nbformat": 4,
  "nbformat_minor": 0,
  "metadata": {
    "colab": {
      "name": "DA310 - Multiple Linear Regression - Group Project.ipynb",
      "provenance": [],
      "collapsed_sections": [],
      "toc_visible": true,
      "authorship_tag": "ABX9TyPKrwiLuO/1ZhGQn4aR2QK6",
      "include_colab_link": true
    },
    "kernelspec": {
      "name": "python3",
      "display_name": "Python 3"
    },
    "language_info": {
      "name": "python"
    }
  },
  "cells": [
    {
      "cell_type": "markdown",
      "metadata": {
        "id": "view-in-github",
        "colab_type": "text"
      },
      "source": [
        "<a href=\"https://colab.research.google.com/github/stuartketcham/DA310---Multiple-Linear-Regression---Group-Project/blob/main/DA310_Multiple_Linear_Regression_Group_Project.ipynb\" target=\"_parent\"><img src=\"https://colab.research.google.com/assets/colab-badge.svg\" alt=\"Open In Colab\"/></a>"
      ]
    },
    {
      "cell_type": "code",
      "execution_count": null,
      "metadata": {
        "id": "DrwAox5gVsvs"
      },
      "outputs": [],
      "source": [
        "import pandas as pd\n",
        "import matplotlib.pyplot as plt\n",
        "import statsmodels.formula.api as smf\n",
        "import numpy as np\n",
        "from scipy import stats\n",
        "from sklearn.linear_model import LinearRegression\n",
        "from sklearn import metrics"
      ]
    },
    {
      "cell_type": "markdown",
      "source": [
        "**Plan**\n",
        "\n",
        "Display sample data and summary\n",
        "\n",
        "Observe data in graphical form to draw conclusions about distribution and linear form\n",
        "\n",
        "Calculate normality p-value\n",
        "\n",
        "Calculate lineral regression model and display values\n",
        "\n",
        "Display regression summary\n",
        "\n",
        "Display scatterplot again with calculated regression line\n",
        "\n",
        "Compare actual and predicted values to determine accuracy of the linear regression equation"
      ],
      "metadata": {
        "id": "6If8PEyZW3FY"
      }
    },
    {
      "cell_type": "code",
      "source": [
        ""
      ],
      "metadata": {
        "id": "XWeu1_OFW6oG"
      },
      "execution_count": null,
      "outputs": []
    }
  ]
}
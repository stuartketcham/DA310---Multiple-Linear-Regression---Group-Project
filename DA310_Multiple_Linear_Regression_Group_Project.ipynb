{
  "nbformat": 4,
  "nbformat_minor": 0,
  "metadata": {
    "colab": {
      "name": "DA310 - Multiple Linear Regression - Group Project.ipynb",
      "provenance": [],
      "collapsed_sections": [],
      "toc_visible": true,
      "authorship_tag": "ABX9TyNqhfdG900zYv8W2d/0tXG+",
      "include_colab_link": true
    },
    "kernelspec": {
      "name": "python3",
      "display_name": "Python 3"
    },
    "language_info": {
      "name": "python"
    }
  },
  "cells": [
    {
      "cell_type": "markdown",
      "metadata": {
        "id": "view-in-github",
        "colab_type": "text"
      },
      "source": [
        "<a href=\"https://colab.research.google.com/github/stuartketcham/DA310---Multiple-Linear-Regression---Group-Project/blob/main/DA310_Multiple_Linear_Regression_Group_Project.ipynb\" target=\"_parent\"><img src=\"https://colab.research.google.com/assets/colab-badge.svg\" alt=\"Open In Colab\"/></a>"
      ]
    },
    {
      "cell_type": "code",
      "execution_count": 2,
      "metadata": {
        "id": "DrwAox5gVsvs",
        "colab": {
          "base_uri": "https://localhost:8080/"
        },
        "outputId": "54ce03f9-7c33-466a-ecb1-e3be06d3abbf"
      },
      "outputs": [
        {
          "output_type": "stream",
          "name": "stderr",
          "text": [
            "/usr/local/lib/python3.7/dist-packages/statsmodels/tools/_testing.py:19: FutureWarning: pandas.util.testing is deprecated. Use the functions in the public API at pandas.testing instead.\n",
            "  import pandas.util.testing as tm\n"
          ]
        }
      ],
      "source": [
        "import pandas as pd\n",
        "import matplotlib.pyplot as plt\n",
        "import statsmodels.formula.api as smf\n",
        "import numpy as np\n",
        "from scipy import stats\n",
        "from sklearn.linear_model import LinearRegression\n",
        "from sklearn import metrics"
      ]
    },
    {
      "cell_type": "markdown",
      "source": [
        "**Plan**\n",
        "\n",
        "Load data\n",
        "\n",
        "Split dataset into training and test dataset, use training dataset to create the model.\n",
        "\n",
        "Display sample data and summary\n",
        "\n",
        "Observe data in graphical form to draw conclusions about distribution and linear form\n",
        "\n",
        "Calculate normality p-value\n",
        "\n",
        "Calculate lineral regression model and display values\n",
        "\n",
        "Display regression summary\n",
        "\n",
        "Display scatterplot again with calculated regression line\n",
        "\n",
        "Compare actual and predicted values to determine accuracy of the linear regression equation"
      ],
      "metadata": {
        "id": "6If8PEyZW3FY"
      }
    },
    {
      "cell_type": "code",
      "source": [
        "#Read this csv file from GitHub into Jupyter Notebook.\n",
        "dataset = pd.read_csv(r\"https://raw.githubusercontent.com/stuartketcham/DA310---Multiple-Linear-Regression---Group-Project/df8e8dd993d0432fd66911aa7b6c76a268943554/Real_estate.csv\")\n",
        "\n",
        "\n",
        "\n",
        "\n",
        "#Rename dataframe columns\n",
        "dataset.rename(columns={'X1 transaction date': 'PurchaseDate'}, inplace=True)\n",
        "dataset.rename(columns={'X2 house age': 'HouseAge'}, inplace=True)\n",
        "dataset.rename(columns={'X3 distance to the nearest MRT station': 'MRTStation'}, inplace=True)\n",
        "dataset.rename(columns={'X4 number of convenience stores': 'NumberOfStores'}, inplace=True)\n",
        "dataset.rename(columns={'X5 latitude': 'Latitude'}, inplace=True)\n",
        "dataset.rename(columns={'X6 longitude': 'Longitude'}, inplace=True)\n",
        "dataset.rename(columns={'Y house price of unit area': 'HousePrice'}, inplace=True)\n",
        "\n",
        "#Make a copy and populate with training data\n",
        "datasettraining = dataset.copy()\n",
        "datasettraining = datasettraining[datasettraining[\"No\"] < 208]\n",
        "\n",
        "datasettest = dataset.copy()\n",
        "datasettest = datasettest[datasettest[\"No\"] >= 208]"
      ],
      "metadata": {
        "id": "XWeu1_OFW6oG",
        "colab": {
          "base_uri": "https://localhost:8080/",
          "height": 502
        },
        "outputId": "26ab0814-458a-4af2-c9ba-47d59adc1500"
      },
      "execution_count": 3,
      "outputs": [
        {
          "output_type": "error",
          "ename": "KeyError",
          "evalue": "ignored",
          "traceback": [
            "\u001b[0;31m---------------------------------------------------------------------------\u001b[0m",
            "\u001b[0;31mKeyError\u001b[0m                                  Traceback (most recent call last)",
            "\u001b[0;32m/usr/local/lib/python3.7/dist-packages/pandas/core/indexes/base.py\u001b[0m in \u001b[0;36mget_loc\u001b[0;34m(self, key, method, tolerance)\u001b[0m\n\u001b[1;32m   3360\u001b[0m             \u001b[0;32mtry\u001b[0m\u001b[0;34m:\u001b[0m\u001b[0;34m\u001b[0m\u001b[0;34m\u001b[0m\u001b[0m\n\u001b[0;32m-> 3361\u001b[0;31m                 \u001b[0;32mreturn\u001b[0m \u001b[0mself\u001b[0m\u001b[0;34m.\u001b[0m\u001b[0m_engine\u001b[0m\u001b[0;34m.\u001b[0m\u001b[0mget_loc\u001b[0m\u001b[0;34m(\u001b[0m\u001b[0mcasted_key\u001b[0m\u001b[0;34m)\u001b[0m\u001b[0;34m\u001b[0m\u001b[0;34m\u001b[0m\u001b[0m\n\u001b[0m\u001b[1;32m   3362\u001b[0m             \u001b[0;32mexcept\u001b[0m \u001b[0mKeyError\u001b[0m \u001b[0;32mas\u001b[0m \u001b[0merr\u001b[0m\u001b[0;34m:\u001b[0m\u001b[0;34m\u001b[0m\u001b[0;34m\u001b[0m\u001b[0m\n",
            "\u001b[0;32m/usr/local/lib/python3.7/dist-packages/pandas/_libs/index.pyx\u001b[0m in \u001b[0;36mpandas._libs.index.IndexEngine.get_loc\u001b[0;34m()\u001b[0m\n",
            "\u001b[0;32m/usr/local/lib/python3.7/dist-packages/pandas/_libs/index.pyx\u001b[0m in \u001b[0;36mpandas._libs.index.IndexEngine.get_loc\u001b[0;34m()\u001b[0m\n",
            "\u001b[0;32mpandas/_libs/hashtable_class_helper.pxi\u001b[0m in \u001b[0;36mpandas._libs.hashtable.PyObjectHashTable.get_item\u001b[0;34m()\u001b[0m\n",
            "\u001b[0;32mpandas/_libs/hashtable_class_helper.pxi\u001b[0m in \u001b[0;36mpandas._libs.hashtable.PyObjectHashTable.get_item\u001b[0;34m()\u001b[0m\n",
            "\u001b[0;31mKeyError\u001b[0m: 'No'",
            "\nThe above exception was the direct cause of the following exception:\n",
            "\u001b[0;31mKeyError\u001b[0m                                  Traceback (most recent call last)",
            "\u001b[0;32m<ipython-input-3-22da9945e767>\u001b[0m in \u001b[0;36m<module>\u001b[0;34m()\u001b[0m\n\u001b[1;32m     16\u001b[0m \u001b[0;31m#Make a copy and populate with training data\u001b[0m\u001b[0;34m\u001b[0m\u001b[0;34m\u001b[0m\u001b[0;34m\u001b[0m\u001b[0m\n\u001b[1;32m     17\u001b[0m \u001b[0mdatasettraining\u001b[0m \u001b[0;34m=\u001b[0m \u001b[0mdataset\u001b[0m\u001b[0;34m.\u001b[0m\u001b[0mcopy\u001b[0m\u001b[0;34m(\u001b[0m\u001b[0;34m)\u001b[0m\u001b[0;34m\u001b[0m\u001b[0;34m\u001b[0m\u001b[0m\n\u001b[0;32m---> 18\u001b[0;31m \u001b[0mdatasettraining\u001b[0m \u001b[0;34m=\u001b[0m \u001b[0mdatasettraining\u001b[0m\u001b[0;34m[\u001b[0m\u001b[0mdatasettraining\u001b[0m\u001b[0;34m[\u001b[0m\u001b[0;34m\"No\"\u001b[0m\u001b[0;34m]\u001b[0m \u001b[0;34m<\u001b[0m \u001b[0;36m208\u001b[0m\u001b[0;34m]\u001b[0m\u001b[0;34m\u001b[0m\u001b[0;34m\u001b[0m\u001b[0m\n\u001b[0m\u001b[1;32m     19\u001b[0m \u001b[0;34m\u001b[0m\u001b[0m\n\u001b[1;32m     20\u001b[0m \u001b[0mdatasettest\u001b[0m \u001b[0;34m=\u001b[0m \u001b[0mdataset\u001b[0m\u001b[0;34m.\u001b[0m\u001b[0mcopy\u001b[0m\u001b[0;34m(\u001b[0m\u001b[0;34m)\u001b[0m\u001b[0;34m\u001b[0m\u001b[0;34m\u001b[0m\u001b[0m\n",
            "\u001b[0;32m/usr/local/lib/python3.7/dist-packages/pandas/core/frame.py\u001b[0m in \u001b[0;36m__getitem__\u001b[0;34m(self, key)\u001b[0m\n\u001b[1;32m   3456\u001b[0m             \u001b[0;32mif\u001b[0m \u001b[0mself\u001b[0m\u001b[0;34m.\u001b[0m\u001b[0mcolumns\u001b[0m\u001b[0;34m.\u001b[0m\u001b[0mnlevels\u001b[0m \u001b[0;34m>\u001b[0m \u001b[0;36m1\u001b[0m\u001b[0;34m:\u001b[0m\u001b[0;34m\u001b[0m\u001b[0;34m\u001b[0m\u001b[0m\n\u001b[1;32m   3457\u001b[0m                 \u001b[0;32mreturn\u001b[0m \u001b[0mself\u001b[0m\u001b[0;34m.\u001b[0m\u001b[0m_getitem_multilevel\u001b[0m\u001b[0;34m(\u001b[0m\u001b[0mkey\u001b[0m\u001b[0;34m)\u001b[0m\u001b[0;34m\u001b[0m\u001b[0;34m\u001b[0m\u001b[0m\n\u001b[0;32m-> 3458\u001b[0;31m             \u001b[0mindexer\u001b[0m \u001b[0;34m=\u001b[0m \u001b[0mself\u001b[0m\u001b[0;34m.\u001b[0m\u001b[0mcolumns\u001b[0m\u001b[0;34m.\u001b[0m\u001b[0mget_loc\u001b[0m\u001b[0;34m(\u001b[0m\u001b[0mkey\u001b[0m\u001b[0;34m)\u001b[0m\u001b[0;34m\u001b[0m\u001b[0;34m\u001b[0m\u001b[0m\n\u001b[0m\u001b[1;32m   3459\u001b[0m             \u001b[0;32mif\u001b[0m \u001b[0mis_integer\u001b[0m\u001b[0;34m(\u001b[0m\u001b[0mindexer\u001b[0m\u001b[0;34m)\u001b[0m\u001b[0;34m:\u001b[0m\u001b[0;34m\u001b[0m\u001b[0;34m\u001b[0m\u001b[0m\n\u001b[1;32m   3460\u001b[0m                 \u001b[0mindexer\u001b[0m \u001b[0;34m=\u001b[0m \u001b[0;34m[\u001b[0m\u001b[0mindexer\u001b[0m\u001b[0;34m]\u001b[0m\u001b[0;34m\u001b[0m\u001b[0;34m\u001b[0m\u001b[0m\n",
            "\u001b[0;32m/usr/local/lib/python3.7/dist-packages/pandas/core/indexes/base.py\u001b[0m in \u001b[0;36mget_loc\u001b[0;34m(self, key, method, tolerance)\u001b[0m\n\u001b[1;32m   3361\u001b[0m                 \u001b[0;32mreturn\u001b[0m \u001b[0mself\u001b[0m\u001b[0;34m.\u001b[0m\u001b[0m_engine\u001b[0m\u001b[0;34m.\u001b[0m\u001b[0mget_loc\u001b[0m\u001b[0;34m(\u001b[0m\u001b[0mcasted_key\u001b[0m\u001b[0;34m)\u001b[0m\u001b[0;34m\u001b[0m\u001b[0;34m\u001b[0m\u001b[0m\n\u001b[1;32m   3362\u001b[0m             \u001b[0;32mexcept\u001b[0m \u001b[0mKeyError\u001b[0m \u001b[0;32mas\u001b[0m \u001b[0merr\u001b[0m\u001b[0;34m:\u001b[0m\u001b[0;34m\u001b[0m\u001b[0;34m\u001b[0m\u001b[0m\n\u001b[0;32m-> 3363\u001b[0;31m                 \u001b[0;32mraise\u001b[0m \u001b[0mKeyError\u001b[0m\u001b[0;34m(\u001b[0m\u001b[0mkey\u001b[0m\u001b[0;34m)\u001b[0m \u001b[0;32mfrom\u001b[0m \u001b[0merr\u001b[0m\u001b[0;34m\u001b[0m\u001b[0;34m\u001b[0m\u001b[0m\n\u001b[0m\u001b[1;32m   3364\u001b[0m \u001b[0;34m\u001b[0m\u001b[0m\n\u001b[1;32m   3365\u001b[0m         \u001b[0;32mif\u001b[0m \u001b[0mis_scalar\u001b[0m\u001b[0;34m(\u001b[0m\u001b[0mkey\u001b[0m\u001b[0;34m)\u001b[0m \u001b[0;32mand\u001b[0m \u001b[0misna\u001b[0m\u001b[0;34m(\u001b[0m\u001b[0mkey\u001b[0m\u001b[0;34m)\u001b[0m \u001b[0;32mand\u001b[0m \u001b[0;32mnot\u001b[0m \u001b[0mself\u001b[0m\u001b[0;34m.\u001b[0m\u001b[0mhasnans\u001b[0m\u001b[0;34m:\u001b[0m\u001b[0;34m\u001b[0m\u001b[0;34m\u001b[0m\u001b[0m\n",
            "\u001b[0;31mKeyError\u001b[0m: 'No'"
          ]
        }
      ]
    },
    {
      "cell_type": "code",
      "source": [
        "#Check data head\n",
        "datasettraining.head()"
      ],
      "metadata": {
        "colab": {
          "base_uri": "https://localhost:8080/",
          "height": 206
        },
        "id": "CaR754fnbq7W",
        "outputId": "1319a2ab-296b-47b4-9514-9e03ea7c68e1"
      },
      "execution_count": 80,
      "outputs": [
        {
          "output_type": "execute_result",
          "data": {
            "text/plain": [
              "   No  PurchaseDate  HouseAge  MRTStation  NumberOfStores  Latitude  \\\n",
              "0   1      2012.917      32.0    84.87882              10  24.98298   \n",
              "1   2      2012.917      19.5   306.59470               9  24.98034   \n",
              "2   3      2013.583      13.3   561.98450               5  24.98746   \n",
              "3   4      2013.500      13.3   561.98450               5  24.98746   \n",
              "4   5      2012.833       5.0   390.56840               5  24.97937   \n",
              "\n",
              "   Longitude  HousePrice  \n",
              "0  121.54024        37.9  \n",
              "1  121.53951        42.2  \n",
              "2  121.54391        47.3  \n",
              "3  121.54391        54.8  \n",
              "4  121.54245        43.1  "
            ],
            "text/html": [
              "\n",
              "  <div id=\"df-e4618184-acbe-44e5-9281-6de16de48406\">\n",
              "    <div class=\"colab-df-container\">\n",
              "      <div>\n",
              "<style scoped>\n",
              "    .dataframe tbody tr th:only-of-type {\n",
              "        vertical-align: middle;\n",
              "    }\n",
              "\n",
              "    .dataframe tbody tr th {\n",
              "        vertical-align: top;\n",
              "    }\n",
              "\n",
              "    .dataframe thead th {\n",
              "        text-align: right;\n",
              "    }\n",
              "</style>\n",
              "<table border=\"1\" class=\"dataframe\">\n",
              "  <thead>\n",
              "    <tr style=\"text-align: right;\">\n",
              "      <th></th>\n",
              "      <th>No</th>\n",
              "      <th>PurchaseDate</th>\n",
              "      <th>HouseAge</th>\n",
              "      <th>MRTStation</th>\n",
              "      <th>NumberOfStores</th>\n",
              "      <th>Latitude</th>\n",
              "      <th>Longitude</th>\n",
              "      <th>HousePrice</th>\n",
              "    </tr>\n",
              "  </thead>\n",
              "  <tbody>\n",
              "    <tr>\n",
              "      <th>0</th>\n",
              "      <td>1</td>\n",
              "      <td>2012.917</td>\n",
              "      <td>32.0</td>\n",
              "      <td>84.87882</td>\n",
              "      <td>10</td>\n",
              "      <td>24.98298</td>\n",
              "      <td>121.54024</td>\n",
              "      <td>37.9</td>\n",
              "    </tr>\n",
              "    <tr>\n",
              "      <th>1</th>\n",
              "      <td>2</td>\n",
              "      <td>2012.917</td>\n",
              "      <td>19.5</td>\n",
              "      <td>306.59470</td>\n",
              "      <td>9</td>\n",
              "      <td>24.98034</td>\n",
              "      <td>121.53951</td>\n",
              "      <td>42.2</td>\n",
              "    </tr>\n",
              "    <tr>\n",
              "      <th>2</th>\n",
              "      <td>3</td>\n",
              "      <td>2013.583</td>\n",
              "      <td>13.3</td>\n",
              "      <td>561.98450</td>\n",
              "      <td>5</td>\n",
              "      <td>24.98746</td>\n",
              "      <td>121.54391</td>\n",
              "      <td>47.3</td>\n",
              "    </tr>\n",
              "    <tr>\n",
              "      <th>3</th>\n",
              "      <td>4</td>\n",
              "      <td>2013.500</td>\n",
              "      <td>13.3</td>\n",
              "      <td>561.98450</td>\n",
              "      <td>5</td>\n",
              "      <td>24.98746</td>\n",
              "      <td>121.54391</td>\n",
              "      <td>54.8</td>\n",
              "    </tr>\n",
              "    <tr>\n",
              "      <th>4</th>\n",
              "      <td>5</td>\n",
              "      <td>2012.833</td>\n",
              "      <td>5.0</td>\n",
              "      <td>390.56840</td>\n",
              "      <td>5</td>\n",
              "      <td>24.97937</td>\n",
              "      <td>121.54245</td>\n",
              "      <td>43.1</td>\n",
              "    </tr>\n",
              "  </tbody>\n",
              "</table>\n",
              "</div>\n",
              "      <button class=\"colab-df-convert\" onclick=\"convertToInteractive('df-e4618184-acbe-44e5-9281-6de16de48406')\"\n",
              "              title=\"Convert this dataframe to an interactive table.\"\n",
              "              style=\"display:none;\">\n",
              "        \n",
              "  <svg xmlns=\"http://www.w3.org/2000/svg\" height=\"24px\"viewBox=\"0 0 24 24\"\n",
              "       width=\"24px\">\n",
              "    <path d=\"M0 0h24v24H0V0z\" fill=\"none\"/>\n",
              "    <path d=\"M18.56 5.44l.94 2.06.94-2.06 2.06-.94-2.06-.94-.94-2.06-.94 2.06-2.06.94zm-11 1L8.5 8.5l.94-2.06 2.06-.94-2.06-.94L8.5 2.5l-.94 2.06-2.06.94zm10 10l.94 2.06.94-2.06 2.06-.94-2.06-.94-.94-2.06-.94 2.06-2.06.94z\"/><path d=\"M17.41 7.96l-1.37-1.37c-.4-.4-.92-.59-1.43-.59-.52 0-1.04.2-1.43.59L10.3 9.45l-7.72 7.72c-.78.78-.78 2.05 0 2.83L4 21.41c.39.39.9.59 1.41.59.51 0 1.02-.2 1.41-.59l7.78-7.78 2.81-2.81c.8-.78.8-2.07 0-2.86zM5.41 20L4 18.59l7.72-7.72 1.47 1.35L5.41 20z\"/>\n",
              "  </svg>\n",
              "      </button>\n",
              "      \n",
              "  <style>\n",
              "    .colab-df-container {\n",
              "      display:flex;\n",
              "      flex-wrap:wrap;\n",
              "      gap: 12px;\n",
              "    }\n",
              "\n",
              "    .colab-df-convert {\n",
              "      background-color: #E8F0FE;\n",
              "      border: none;\n",
              "      border-radius: 50%;\n",
              "      cursor: pointer;\n",
              "      display: none;\n",
              "      fill: #1967D2;\n",
              "      height: 32px;\n",
              "      padding: 0 0 0 0;\n",
              "      width: 32px;\n",
              "    }\n",
              "\n",
              "    .colab-df-convert:hover {\n",
              "      background-color: #E2EBFA;\n",
              "      box-shadow: 0px 1px 2px rgba(60, 64, 67, 0.3), 0px 1px 3px 1px rgba(60, 64, 67, 0.15);\n",
              "      fill: #174EA6;\n",
              "    }\n",
              "\n",
              "    [theme=dark] .colab-df-convert {\n",
              "      background-color: #3B4455;\n",
              "      fill: #D2E3FC;\n",
              "    }\n",
              "\n",
              "    [theme=dark] .colab-df-convert:hover {\n",
              "      background-color: #434B5C;\n",
              "      box-shadow: 0px 1px 3px 1px rgba(0, 0, 0, 0.15);\n",
              "      filter: drop-shadow(0px 1px 2px rgba(0, 0, 0, 0.3));\n",
              "      fill: #FFFFFF;\n",
              "    }\n",
              "  </style>\n",
              "\n",
              "      <script>\n",
              "        const buttonEl =\n",
              "          document.querySelector('#df-e4618184-acbe-44e5-9281-6de16de48406 button.colab-df-convert');\n",
              "        buttonEl.style.display =\n",
              "          google.colab.kernel.accessAllowed ? 'block' : 'none';\n",
              "\n",
              "        async function convertToInteractive(key) {\n",
              "          const element = document.querySelector('#df-e4618184-acbe-44e5-9281-6de16de48406');\n",
              "          const dataTable =\n",
              "            await google.colab.kernel.invokeFunction('convertToInteractive',\n",
              "                                                     [key], {});\n",
              "          if (!dataTable) return;\n",
              "\n",
              "          const docLinkHtml = 'Like what you see? Visit the ' +\n",
              "            '<a target=\"_blank\" href=https://colab.research.google.com/notebooks/data_table.ipynb>data table notebook</a>'\n",
              "            + ' to learn more about interactive tables.';\n",
              "          element.innerHTML = '';\n",
              "          dataTable['output_type'] = 'display_data';\n",
              "          await google.colab.output.renderOutput(dataTable, element);\n",
              "          const docLink = document.createElement('div');\n",
              "          docLink.innerHTML = docLinkHtml;\n",
              "          element.appendChild(docLink);\n",
              "        }\n",
              "      </script>\n",
              "    </div>\n",
              "  </div>\n",
              "  "
            ]
          },
          "metadata": {},
          "execution_count": 80
        }
      ]
    },
    {
      "cell_type": "code",
      "source": [
        "#Summary of all fields\n",
        "datasettraining.describe()"
      ],
      "metadata": {
        "colab": {
          "base_uri": "https://localhost:8080/",
          "height": 300
        },
        "id": "h5PjDkaoMKak",
        "outputId": "43fc5f77-c789-4ca0-f9a5-b0df5963c315"
      },
      "execution_count": 81,
      "outputs": [
        {
          "output_type": "execute_result",
          "data": {
            "text/plain": [
              "               No  PurchaseDate    HouseAge   MRTStation  NumberOfStores  \\\n",
              "count  207.000000    207.000000  207.000000   207.000000      207.000000   \n",
              "mean   104.000000   2013.161464   17.972947  1108.098359        4.125604   \n",
              "std     59.899917      0.287243   11.375072  1314.140884        2.863169   \n",
              "min      1.000000   2012.667000    0.000000    23.382840        0.000000   \n",
              "25%     52.500000   2012.917000    9.950000   291.161300        1.000000   \n",
              "50%    104.000000   2013.167000   16.000000   492.231300        5.000000   \n",
              "75%    155.500000   2013.417000   28.850000  1404.223000        6.000000   \n",
              "max    207.000000   2013.583000   43.800000  6396.283000       10.000000   \n",
              "\n",
              "         Latitude   Longitude  HousePrice  \n",
              "count  207.000000  207.000000  207.000000  \n",
              "mean    24.968676  121.533941   38.270048  \n",
              "std      0.013039    0.015629   13.422350  \n",
              "min     24.932930  121.478830    7.600000  \n",
              "25%     24.962990  121.530675   27.150000  \n",
              "50%     24.971100  121.539640   39.400000  \n",
              "75%     24.977450  121.543695   47.550000  \n",
              "max     25.014590  121.566270   73.600000  "
            ],
            "text/html": [
              "\n",
              "  <div id=\"df-9e92fcfc-c121-415d-a7c7-4839de8d9fe1\">\n",
              "    <div class=\"colab-df-container\">\n",
              "      <div>\n",
              "<style scoped>\n",
              "    .dataframe tbody tr th:only-of-type {\n",
              "        vertical-align: middle;\n",
              "    }\n",
              "\n",
              "    .dataframe tbody tr th {\n",
              "        vertical-align: top;\n",
              "    }\n",
              "\n",
              "    .dataframe thead th {\n",
              "        text-align: right;\n",
              "    }\n",
              "</style>\n",
              "<table border=\"1\" class=\"dataframe\">\n",
              "  <thead>\n",
              "    <tr style=\"text-align: right;\">\n",
              "      <th></th>\n",
              "      <th>No</th>\n",
              "      <th>PurchaseDate</th>\n",
              "      <th>HouseAge</th>\n",
              "      <th>MRTStation</th>\n",
              "      <th>NumberOfStores</th>\n",
              "      <th>Latitude</th>\n",
              "      <th>Longitude</th>\n",
              "      <th>HousePrice</th>\n",
              "    </tr>\n",
              "  </thead>\n",
              "  <tbody>\n",
              "    <tr>\n",
              "      <th>count</th>\n",
              "      <td>207.000000</td>\n",
              "      <td>207.000000</td>\n",
              "      <td>207.000000</td>\n",
              "      <td>207.000000</td>\n",
              "      <td>207.000000</td>\n",
              "      <td>207.000000</td>\n",
              "      <td>207.000000</td>\n",
              "      <td>207.000000</td>\n",
              "    </tr>\n",
              "    <tr>\n",
              "      <th>mean</th>\n",
              "      <td>104.000000</td>\n",
              "      <td>2013.161464</td>\n",
              "      <td>17.972947</td>\n",
              "      <td>1108.098359</td>\n",
              "      <td>4.125604</td>\n",
              "      <td>24.968676</td>\n",
              "      <td>121.533941</td>\n",
              "      <td>38.270048</td>\n",
              "    </tr>\n",
              "    <tr>\n",
              "      <th>std</th>\n",
              "      <td>59.899917</td>\n",
              "      <td>0.287243</td>\n",
              "      <td>11.375072</td>\n",
              "      <td>1314.140884</td>\n",
              "      <td>2.863169</td>\n",
              "      <td>0.013039</td>\n",
              "      <td>0.015629</td>\n",
              "      <td>13.422350</td>\n",
              "    </tr>\n",
              "    <tr>\n",
              "      <th>min</th>\n",
              "      <td>1.000000</td>\n",
              "      <td>2012.667000</td>\n",
              "      <td>0.000000</td>\n",
              "      <td>23.382840</td>\n",
              "      <td>0.000000</td>\n",
              "      <td>24.932930</td>\n",
              "      <td>121.478830</td>\n",
              "      <td>7.600000</td>\n",
              "    </tr>\n",
              "    <tr>\n",
              "      <th>25%</th>\n",
              "      <td>52.500000</td>\n",
              "      <td>2012.917000</td>\n",
              "      <td>9.950000</td>\n",
              "      <td>291.161300</td>\n",
              "      <td>1.000000</td>\n",
              "      <td>24.962990</td>\n",
              "      <td>121.530675</td>\n",
              "      <td>27.150000</td>\n",
              "    </tr>\n",
              "    <tr>\n",
              "      <th>50%</th>\n",
              "      <td>104.000000</td>\n",
              "      <td>2013.167000</td>\n",
              "      <td>16.000000</td>\n",
              "      <td>492.231300</td>\n",
              "      <td>5.000000</td>\n",
              "      <td>24.971100</td>\n",
              "      <td>121.539640</td>\n",
              "      <td>39.400000</td>\n",
              "    </tr>\n",
              "    <tr>\n",
              "      <th>75%</th>\n",
              "      <td>155.500000</td>\n",
              "      <td>2013.417000</td>\n",
              "      <td>28.850000</td>\n",
              "      <td>1404.223000</td>\n",
              "      <td>6.000000</td>\n",
              "      <td>24.977450</td>\n",
              "      <td>121.543695</td>\n",
              "      <td>47.550000</td>\n",
              "    </tr>\n",
              "    <tr>\n",
              "      <th>max</th>\n",
              "      <td>207.000000</td>\n",
              "      <td>2013.583000</td>\n",
              "      <td>43.800000</td>\n",
              "      <td>6396.283000</td>\n",
              "      <td>10.000000</td>\n",
              "      <td>25.014590</td>\n",
              "      <td>121.566270</td>\n",
              "      <td>73.600000</td>\n",
              "    </tr>\n",
              "  </tbody>\n",
              "</table>\n",
              "</div>\n",
              "      <button class=\"colab-df-convert\" onclick=\"convertToInteractive('df-9e92fcfc-c121-415d-a7c7-4839de8d9fe1')\"\n",
              "              title=\"Convert this dataframe to an interactive table.\"\n",
              "              style=\"display:none;\">\n",
              "        \n",
              "  <svg xmlns=\"http://www.w3.org/2000/svg\" height=\"24px\"viewBox=\"0 0 24 24\"\n",
              "       width=\"24px\">\n",
              "    <path d=\"M0 0h24v24H0V0z\" fill=\"none\"/>\n",
              "    <path d=\"M18.56 5.44l.94 2.06.94-2.06 2.06-.94-2.06-.94-.94-2.06-.94 2.06-2.06.94zm-11 1L8.5 8.5l.94-2.06 2.06-.94-2.06-.94L8.5 2.5l-.94 2.06-2.06.94zm10 10l.94 2.06.94-2.06 2.06-.94-2.06-.94-.94-2.06-.94 2.06-2.06.94z\"/><path d=\"M17.41 7.96l-1.37-1.37c-.4-.4-.92-.59-1.43-.59-.52 0-1.04.2-1.43.59L10.3 9.45l-7.72 7.72c-.78.78-.78 2.05 0 2.83L4 21.41c.39.39.9.59 1.41.59.51 0 1.02-.2 1.41-.59l7.78-7.78 2.81-2.81c.8-.78.8-2.07 0-2.86zM5.41 20L4 18.59l7.72-7.72 1.47 1.35L5.41 20z\"/>\n",
              "  </svg>\n",
              "      </button>\n",
              "      \n",
              "  <style>\n",
              "    .colab-df-container {\n",
              "      display:flex;\n",
              "      flex-wrap:wrap;\n",
              "      gap: 12px;\n",
              "    }\n",
              "\n",
              "    .colab-df-convert {\n",
              "      background-color: #E8F0FE;\n",
              "      border: none;\n",
              "      border-radius: 50%;\n",
              "      cursor: pointer;\n",
              "      display: none;\n",
              "      fill: #1967D2;\n",
              "      height: 32px;\n",
              "      padding: 0 0 0 0;\n",
              "      width: 32px;\n",
              "    }\n",
              "\n",
              "    .colab-df-convert:hover {\n",
              "      background-color: #E2EBFA;\n",
              "      box-shadow: 0px 1px 2px rgba(60, 64, 67, 0.3), 0px 1px 3px 1px rgba(60, 64, 67, 0.15);\n",
              "      fill: #174EA6;\n",
              "    }\n",
              "\n",
              "    [theme=dark] .colab-df-convert {\n",
              "      background-color: #3B4455;\n",
              "      fill: #D2E3FC;\n",
              "    }\n",
              "\n",
              "    [theme=dark] .colab-df-convert:hover {\n",
              "      background-color: #434B5C;\n",
              "      box-shadow: 0px 1px 3px 1px rgba(0, 0, 0, 0.15);\n",
              "      filter: drop-shadow(0px 1px 2px rgba(0, 0, 0, 0.3));\n",
              "      fill: #FFFFFF;\n",
              "    }\n",
              "  </style>\n",
              "\n",
              "      <script>\n",
              "        const buttonEl =\n",
              "          document.querySelector('#df-9e92fcfc-c121-415d-a7c7-4839de8d9fe1 button.colab-df-convert');\n",
              "        buttonEl.style.display =\n",
              "          google.colab.kernel.accessAllowed ? 'block' : 'none';\n",
              "\n",
              "        async function convertToInteractive(key) {\n",
              "          const element = document.querySelector('#df-9e92fcfc-c121-415d-a7c7-4839de8d9fe1');\n",
              "          const dataTable =\n",
              "            await google.colab.kernel.invokeFunction('convertToInteractive',\n",
              "                                                     [key], {});\n",
              "          if (!dataTable) return;\n",
              "\n",
              "          const docLinkHtml = 'Like what you see? Visit the ' +\n",
              "            '<a target=\"_blank\" href=https://colab.research.google.com/notebooks/data_table.ipynb>data table notebook</a>'\n",
              "            + ' to learn more about interactive tables.';\n",
              "          element.innerHTML = '';\n",
              "          dataTable['output_type'] = 'display_data';\n",
              "          await google.colab.output.renderOutput(dataTable, element);\n",
              "          const docLink = document.createElement('div');\n",
              "          docLink.innerHTML = docLinkHtml;\n",
              "          element.appendChild(docLink);\n",
              "        }\n",
              "      </script>\n",
              "    </div>\n",
              "  </div>\n",
              "  "
            ]
          },
          "metadata": {},
          "execution_count": 81
        }
      ]
    },
    {
      "cell_type": "code",
      "source": [
        "#Set size of scatterplot\n",
        "f, ax = plt.subplots(1, 4, figsize = (30, 7.5))\n",
        "\n",
        "ax[0].scatter(datasettraining['PurchaseDate'], datasettraining['HousePrice'])\n",
        "ax[1].scatter(datasettraining['HouseAge'], datasettraining['HousePrice'])\n",
        "ax[2].scatter(datasettraining['MRTStation'], datasettraining['HousePrice'])\n",
        "ax[3].scatter(datasettraining['NumberOfStores'], datasettraining['HousePrice'])\n",
        "\n",
        "#Add titles\n",
        "ax[0].set_title('1.A - Purchase Date vs House Price')\n",
        "ax[1].set_title('1.B - House Age vs House Price')\n",
        "ax[2].set_title('1.C - MRT Station Distance vs House Price')\n",
        "ax[3].set_title('1.D - Number Of Stores Nearby vs House Price')\n",
        "\n",
        "#Add labels\n",
        "ax[0].set(xlabel='Purchase Date', ylabel='House Price')\n",
        "ax[1].set(xlabel='House Age', ylabel='House Price')\n",
        "ax[2].set(xlabel='MRT Station Distance', ylabel='House Price')\n",
        "ax[3].set(xlabel='Number Of Stores Nearby', ylabel='House Price')\n",
        "\n",
        "plt.show()"
      ],
      "metadata": {
        "colab": {
          "base_uri": "https://localhost:8080/",
          "height": 486
        },
        "id": "b2VOIaPz-2k9",
        "outputId": "2476713e-5a4c-4269-d02a-14e357064b70"
      },
      "execution_count": 82,
      "outputs": [
        {
          "output_type": "display_data",
          "data": {
            "text/plain": [
              "<Figure size 2160x540 with 4 Axes>"
            ],
            "image/png": "[encoded data removed]"
          },
          "metadata": {
            "needs_background": "light"
          }
        }
      ]
    },
    {
      "cell_type": "code",
      "source": [
        "#Normality Check - P-value\n",
        "stat, p = stats.normaltest(datasettraining['PurchaseDate'])\n",
        "print('p-value:', p)\n",
        "stat, p = stats.normaltest(datasettraining['HouseAge'])\n",
        "print('p-value:', p)\n",
        "stat, p = stats.normaltest(datasettraining['PurchaseDate'])\n",
        "print('p-value:', p)\n",
        "stat, p = stats.normaltest(datasettraining['MRTStation'])\n",
        "print('p-value:', p)\n",
        "stat, p = stats.normaltest(datasettraining['NumberOfStores'])\n",
        "print('p-value:', p)\n",
        "\n",
        "#Everything fails normality tests"
      ],
      "metadata": {
        "colab": {
          "base_uri": "https://localhost:8080/"
        },
        "id": "DOzMY-7Amwn9",
        "outputId": "55acb5af-24cb-4901-da8e-fc1b762401ef"
      },
      "execution_count": 83,
      "outputs": [
        {
          "output_type": "stream",
          "name": "stdout",
          "text": [
            "p-value: 8.067345556920212e-29\n",
            "p-value: 2.317138304207229e-06\n",
            "p-value: 8.067345556920212e-29\n",
            "p-value: 5.65841572034796e-17\n",
            "p-value: 9.648244277558252e-12\n"
          ]
        }
      ]
    },
    {
      "cell_type": "code",
      "source": [
        "#set the Linear Regression model\n",
        "model = LinearRegression()\n",
        "\n",
        "#Choice variables\n",
        "MultiVarChoices = datasettraining[['MRTStation', 'NumberOfStores']]\n",
        "\n",
        "#Fit the our choices to house prices\n",
        "model.fit(MultiVarChoices, datasettraining['HousePrice'])\n",
        "\n",
        "#Get the Coefficient of Determination\n",
        "r_sq = model.score(MultiVarChoices, datasettraining['HousePrice'])\n",
        "\n",
        "#Get the Coefficents for the formula.\n",
        "salCoef = model.coef_\n",
        "\n",
        "#Get the Y-intercept value\n",
        "salIntercept = model.intercept_"
      ],
      "metadata": {
        "id": "RQ9k_plEpofa"
      },
      "execution_count": 84,
      "outputs": []
    },
    {
      "cell_type": "code",
      "source": [
        "#Output formula variables for regression analysis.\n",
        "print('Coefficient of Determination:', r_sq)\n",
        "print('Intercept:', salIntercept)\n",
        "print('Slope:', salCoef)"
      ],
      "metadata": {
        "colab": {
          "base_uri": "https://localhost:8080/"
        },
        "id": "hC70ktesuaqb",
        "outputId": "68453c0c-20d1-49d6-d85d-c9030b21a23b"
      },
      "execution_count": 85,
      "outputs": [
        {
          "output_type": "stream",
          "name": "stdout",
          "text": [
            "Coefficient of Determination: 0.5455750976674375\n",
            "Intercept: 39.55824389245858\n",
            "Slope: [-0.00558668  1.18828446]\n"
          ]
        }
      ]
    },
    {
      "cell_type": "code",
      "source": [
        "#Create a function to calculate salary based on experience. \n",
        "def returnPrice(coef, vars, intercept):\n",
        "     j = coef[0] * vars[0] + coef[1] * vars[1] + intercept\n",
        "     return j\n",
        "\n",
        "#Test function - format returned value as US currency.\n",
        "print(\"${:,.2f}\".format(returnPrice(salCoef, [2175.03, 7.1], salIntercept)))\n",
        "\n",
        "#Calculate all test data\n",
        "predictedPrice = returnPrice(salCoef, [datasettest['MRTStation'], datasettest['NumberOfStores']], salIntercept)"
      ],
      "metadata": {
        "colab": {
          "base_uri": "https://localhost:8080/"
        },
        "id": "6RtaDaHOu66w",
        "outputId": "8f1f7285-7530-4e1c-8097-f18fe94d83b4"
      },
      "execution_count": 87,
      "outputs": [
        {
          "output_type": "stream",
          "name": "stdout",
          "text": [
            "$35.84\n"
          ]
        }
      ]
    },
    {
      "cell_type": "code",
      "source": [
        "#Generate a regression summary and display it.\n",
        "salaryModel = smf.ols('HousePrice ~ NumberOfStores + MRTStation', data = datasettraining)\n",
        "print(salaryModel.fit().summary())"
      ],
      "metadata": {
        "colab": {
          "base_uri": "https://localhost:8080/"
        },
        "id": "zFtSIXyQRa_z",
        "outputId": "1092a574-0f8f-4ed4-98df-2e3025b10ef3"
      },
      "execution_count": 93,
      "outputs": [
        {
          "output_type": "stream",
          "name": "stdout",
          "text": [
            "                            OLS Regression Results                            \n",
            "==============================================================================\n",
            "Dep. Variable:             HousePrice   R-squared:                       0.546\n",
            "Model:                            OLS   Adj. R-squared:                  0.541\n",
            "Method:                 Least Squares   F-statistic:                     122.5\n",
            "Date:                Tue, 14 Jun 2022   Prob (F-statistic):           1.15e-35\n",
            "Time:                        22:16:43   Log-Likelihood:                -749.15\n",
            "No. Observations:                 207   AIC:                             1504.\n",
            "Df Residuals:                     204   BIC:                             1514.\n",
            "Df Model:                           2                                         \n",
            "Covariance Type:            nonrobust                                         \n",
            "==================================================================================\n",
            "                     coef    std err          t      P>|t|      [0.025      0.975]\n",
            "----------------------------------------------------------------------------------\n",
            "Intercept         39.5582      1.869     21.164      0.000      35.873      43.244\n",
            "NumberOfStores     1.1883      0.293      4.049      0.000       0.610       1.767\n",
            "MRTStation        -0.0056      0.001     -8.738      0.000      -0.007      -0.004\n",
            "==============================================================================\n",
            "Omnibus:                       12.621   Durbin-Watson:                   1.987\n",
            "Prob(Omnibus):                  0.002   Jarque-Bera (JB):               21.230\n",
            "Skew:                           0.326   Prob(JB):                     2.45e-05\n",
            "Kurtosis:                       4.427   Cond. No.                     5.13e+03\n",
            "==============================================================================\n",
            "\n",
            "Warnings:\n",
            "[1] Standard Errors assume that the covariance matrix of the errors is correctly specified.\n",
            "[2] The condition number is large, 5.13e+03. This might indicate that there are\n",
            "strong multicollinearity or other numerical problems.\n"
          ]
        }
      ]
    },
    {
      "cell_type": "code",
      "source": [
        "#Sample data output\n",
        "#Header\n",
        "print('No'.ljust(5), 'MRT'.ljust(11), 'Number of'.ljust(14), 'Actual'.ljust(14), 'Predicted'.ljust(14))\n",
        "print(''.ljust(5), 'Distance'.ljust(11), 'Stores'.ljust(14), 'Price'.ljust(14), 'Price'.ljust(14))\n",
        "#Data\n",
        "for i in [209,210,211,212,213,214,305,306,307,308,309,349,399]:\n",
        "    print(str(datasettest['No'][i]).ljust(5), \n",
        "            str(datasettest['MRTStation'][i]).ljust(11), \n",
        "             str(datasettest['NumberOfStores'][i]).ljust(14), \n",
        "             \"${:,.2f}\".format(datasettest['HousePrice'][i]).ljust(14),\n",
        "             \"${:,.2f}\".format(predictedPrice[i]).ljust(14)\n",
        "         )"
      ],
      "metadata": {
        "colab": {
          "base_uri": "https://localhost:8080/"
        },
        "id": "ON8J4kCayCla",
        "outputId": "aee2932d-a1f4-4d62-ceef-966e126643fa"
      },
      "execution_count": 90,
      "outputs": [
        {
          "output_type": "stream",
          "name": "stdout",
          "text": [
            "No    MRT         Number of      Actual         Predicted     \n",
            "      Distance    Stores         Price          Price         \n",
            "210   175.6294    8              $40.90         $48.08        \n",
            "211   390.5684    5              $52.20         $43.32        \n",
            "212   274.0144    1              $43.50         $39.22        \n",
            "213   1805.665    2              $31.10         $31.85        \n",
            "214   90.45606    9              $58.00         $49.75        \n",
            "215   1783.18     3              $20.90         $33.16        \n",
            "306   289.3248    5              $55.00         $43.88        \n",
            "307   169.9803    1              $50.20         $39.80        \n",
            "308   3079.89     0              $24.70         $22.35        \n",
            "309   289.3248    5              $53.00         $43.88        \n",
            "310   1264.73     0              $19.10         $32.49        \n",
            "350   104.8101    5              $47.00         $44.91        \n",
            "400   170.1289    1              $37.30         $39.80        \n"
          ]
        }
      ]
    }
  ]
}